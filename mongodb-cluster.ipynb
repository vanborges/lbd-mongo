{
 "cells": [
  {
   "cell_type": "code",
   "execution_count": 161,
   "source": [
    "import pymongo \r\n",
    "from pymongo import MongoClient"
   ],
   "outputs": [],
   "metadata": {}
  },
  {
   "cell_type": "markdown",
   "source": [
    "## CONEXÃO\r\n",
    "#### Tutorial pymongo: https://docs.mongodb.com/drivers/pymongo/"
   ],
   "metadata": {}
  },
  {
   "cell_type": "code",
   "execution_count": 162,
   "source": [
    "#conecta ao cluster\r\n",
    "#shell: mongosh \"mongodb+srv://cluster0.ik0ua.mongodb.net/empresa\" --username <usuario>\r\n",
    "client = pymongo.MongoClient(\"mongodb+srv://<usuario>:<senha>@cluster0.ik0ua.mongodb.net\")"
   ],
   "outputs": [],
   "metadata": {}
  },
  {
   "cell_type": "code",
   "execution_count": 163,
   "source": [
    "# lista todos os databases\r\n",
    "# shell: show dbs / show databases\r\n",
    "client.list_database_names()"
   ],
   "outputs": [
    {
     "output_type": "execute_result",
     "data": {
      "text/plain": [
       "['empresa',\n",
       " 'sample_airbnb',\n",
       " 'sample_analytics',\n",
       " 'sample_geospatial',\n",
       " 'sample_mflix',\n",
       " 'sample_restaurants',\n",
       " 'sample_supplies',\n",
       " 'sample_training',\n",
       " 'sample_weatherdata',\n",
       " 'test',\n",
       " 'admin',\n",
       " 'local']"
      ]
     },
     "metadata": {},
     "execution_count": 163
    }
   ],
   "metadata": {}
  },
  {
   "cell_type": "code",
   "execution_count": 164,
   "source": [
    "#atribui para bd o database empresa\r\n",
    "# shell: use empresa\r\n",
    "#db = client[\"empresa\"]\r\n",
    "db = client.empresa"
   ],
   "outputs": [],
   "metadata": {}
  },
  {
   "cell_type": "code",
   "execution_count": 165,
   "source": [
    "#lista as colections do database empresa\r\n",
    "# shell: show collections\r\n",
    "db.list_collection_names()"
   ],
   "outputs": [
    {
     "output_type": "execute_result",
     "data": {
      "text/plain": [
       "['departamentos']"
      ]
     },
     "metadata": {},
     "execution_count": 165
    }
   ],
   "metadata": {}
  },
  {
   "cell_type": "markdown",
   "source": [
    "## COLLECTION: INSERÇÃO"
   ],
   "metadata": {}
  },
  {
   "cell_type": "code",
   "execution_count": 166,
   "source": [
    "# insere um novo documento\r\n",
    "# shell: db.funcionarios.insertOne(...)\r\n",
    "db.funcionarios.drop()\r\n",
    "db.funcionarios.insert_one(\r\n",
    "    {\"nome\": \"James E. Borg\",\"cpf\": \"888665555\",\"endereco\": \"450 Stone, Houston, TX\",\"sexo\": \"M\",\"salario\": 55000,\"dnumero\":1})"
   ],
   "outputs": [
    {
     "output_type": "execute_result",
     "data": {
      "text/plain": [
       "<pymongo.results.InsertOneResult at 0x207ba0ff8c0>"
      ]
     },
     "metadata": {},
     "execution_count": 166
    }
   ],
   "metadata": {}
  },
  {
   "cell_type": "code",
   "execution_count": 167,
   "source": [
    "#insere vários documentos\r\n",
    "#shell: db.funcionarios.insertMany(...)\r\n",
    "funcionarios_list = [{\r\n",
    "    \"nome\": \"Jennifer S. Wallace\",\"cpf\": \"987654321\",\"endereco\": \"291 Berry, Bellaire, TX\",\"sexo\": \"F\",\"salario\": 43000,\"dnumero\":4},\r\n",
    "  { \"nome\": \"Franklin T. Wong\",\"cpf\": \"333445555\",\"endereco\": \"638 Voss, Housto, TX\",\"sexo\": \"M\",\"salario\": 40000,\r\n",
    "    \"dependentes\": [\r\n",
    "      {\"nome\": \"Alice\",\"sexo\": \"F\",\"datanasc\": \"05/04/1986\",\"parentesco\": \"FILHA\"},\r\n",
    "      {\"nome\": \"Theodore\", \"sexo\": \"M\", \"datanasc\": \"25/10/1983\", \"parentesco\": \"FILHO\"},\r\n",
    "      {\"nome\": \"Joy\",\"sexo\": \"F\", \"datanasc\": \"03/05/1958\", \"parentesco\": \"CONJUJE\"}],\r\n",
    "    \"dnumero\":5}]\r\n",
    "\r\n",
    "db.funcionarios.insert_many(funcionarios_list)"
   ],
   "outputs": [
    {
     "output_type": "execute_result",
     "data": {
      "text/plain": [
       "<pymongo.results.InsertManyResult at 0x207ba152680>"
      ]
     },
     "metadata": {},
     "execution_count": 167
    }
   ],
   "metadata": {}
  },
  {
   "cell_type": "markdown",
   "source": [
    "## COLLECTION: CONSULTA"
   ],
   "metadata": {}
  },
  {
   "cell_type": "code",
   "execution_count": 168,
   "source": [
    "#conta a quantidade de documentos de uma coleção\r\n",
    "#shell: db.funcionarios.count()\r\n",
    "db.funcionarios.count_documents({})"
   ],
   "outputs": [
    {
     "output_type": "execute_result",
     "data": {
      "text/plain": [
       "3"
      ]
     },
     "metadata": {},
     "execution_count": 168
    }
   ],
   "metadata": {}
  },
  {
   "cell_type": "code",
   "execution_count": 169,
   "source": [
    "#lista todos os documentos de uma collection\r\n",
    "#shell: db.funcionarios.find()\r\n",
    "for func in db.funcionarios.find():\r\n",
    "    print(func)"
   ],
   "outputs": [
    {
     "output_type": "stream",
     "name": "stdout",
     "text": [
      "{'_id': ObjectId('61114876c6f523f932ed62ef'), 'nome': 'James E. Borg', 'cpf': '888665555', 'endereco': '450 Stone, Houston, TX', 'sexo': 'M', 'salario': 55000, 'dnumero': 1}\n",
      "{'_id': ObjectId('61114876c6f523f932ed62f0'), 'nome': 'Jennifer S. Wallace', 'cpf': '987654321', 'endereco': '291 Berry, Bellaire, TX', 'sexo': 'F', 'salario': 43000, 'dnumero': 4}\n",
      "{'_id': ObjectId('61114876c6f523f932ed62f1'), 'nome': 'Franklin T. Wong', 'cpf': '333445555', 'endereco': '638 Voss, Housto, TX', 'sexo': 'M', 'salario': 40000, 'dependentes': [{'nome': 'Alice', 'sexo': 'F', 'datanasc': '05/04/1986', 'parentesco': 'FILHA'}, {'nome': 'Theodore', 'sexo': 'M', 'datanasc': '25/10/1983', 'parentesco': 'FILHO'}, {'nome': 'Joy', 'sexo': 'F', 'datanasc': '03/05/1958', 'parentesco': 'CONJUJE'}], 'dnumero': 5}\n"
     ]
    }
   ],
   "metadata": {}
  },
  {
   "cell_type": "markdown",
   "source": [
    "### OPERAÇÃO DE PROJEÇÃO"
   ],
   "metadata": {}
  },
  {
   "cell_type": "code",
   "execution_count": 170,
   "source": [
    "#operação de projeção - inclui atributos - nome, endereco e datanasc\r\n",
    "#shell: db.funcionarios.find({},{\"nome\":1, \"endereco\":1, \"datanasc\":1, \"_id\":0})\r\n",
    "for func in db.funcionarios.find({},{\"nome\":1, \"endereco\":1, \"datanasc\":1, \"_id\":0}):\r\n",
    "    print(func)"
   ],
   "outputs": [
    {
     "output_type": "stream",
     "name": "stdout",
     "text": [
      "{'nome': 'James E. Borg', 'endereco': '450 Stone, Houston, TX'}\n",
      "{'nome': 'Jennifer S. Wallace', 'endereco': '291 Berry, Bellaire, TX'}\n",
      "{'nome': 'Franklin T. Wong', 'endereco': '638 Voss, Housto, TX'}\n"
     ]
    }
   ],
   "metadata": {}
  },
  {
   "cell_type": "code",
   "execution_count": 171,
   "source": [
    "#operacao de projeção - exclusão de atributos - salario, sexo, dependentes\r\n",
    "#shell: db.funcionarios.find({},{\"salario\":0, \"sexo\":0, \"dependentes\":0})\r\n",
    "for func in db.funcionarios.find({},{\"salario\":0, \"sexo\":0, \"dependentes\":0}):\r\n",
    "    print(func)"
   ],
   "outputs": [
    {
     "output_type": "stream",
     "name": "stdout",
     "text": [
      "{'_id': ObjectId('61114876c6f523f932ed62ef'), 'nome': 'James E. Borg', 'cpf': '888665555', 'endereco': '450 Stone, Houston, TX', 'dnumero': 1}\n",
      "{'_id': ObjectId('61114876c6f523f932ed62f0'), 'nome': 'Jennifer S. Wallace', 'cpf': '987654321', 'endereco': '291 Berry, Bellaire, TX', 'dnumero': 4}\n",
      "{'_id': ObjectId('61114876c6f523f932ed62f1'), 'nome': 'Franklin T. Wong', 'cpf': '333445555', 'endereco': '638 Voss, Housto, TX', 'dnumero': 5}\n"
     ]
    }
   ],
   "metadata": {}
  },
  {
   "cell_type": "markdown",
   "source": [
    "### OPERAÇÃO DE SELEÇÃO"
   ],
   "metadata": {}
  },
  {
   "cell_type": "code",
   "execution_count": 172,
   "source": [
    "# Recupera o nome o endereco dos funcionário que possuem cpf=888665555\r\n",
    "#shell: db.funcionarios.find({\"cpf\":\"888665555\"},{\"nome\":1, \"endereco\":1, \"_id\":0})\r\n",
    "for func in db.funcionarios.find({\"cpf\":\"888665555\"},{\"nome\":1, \"endereco\":1, \"_id\":0}):\r\n",
    "    print(func)"
   ],
   "outputs": [
    {
     "output_type": "stream",
     "name": "stdout",
     "text": [
      "{'nome': 'James E. Borg', 'endereco': '450 Stone, Houston, TX'}\n"
     ]
    }
   ],
   "metadata": {}
  },
  {
   "cell_type": "markdown",
   "source": [
    "### REGEX (LIKE) - EXPRESSÕES REGULARES"
   ],
   "metadata": {}
  },
  {
   "cell_type": "code",
   "execution_count": 173,
   "source": [
    "# Recupera o nome o endereco dos funcionário cujo nome começa com J (insensitive)\r\n",
    "for func in db.funcionarios.find({\"nome\":{\"$regex\":\"j.*\", \"$options\":\"i\"}},{\"nome\":1, \"endereco\":1, \"_id\":0}):\r\n",
    "    print(func)"
   ],
   "outputs": [
    {
     "output_type": "stream",
     "name": "stdout",
     "text": [
      "{'nome': 'James E. Borg', 'endereco': '450 Stone, Houston, TX'}\n",
      "{'nome': 'Jennifer S. Wallace', 'endereco': '291 Berry, Bellaire, TX'}\n"
     ]
    }
   ],
   "metadata": {}
  },
  {
   "cell_type": "markdown",
   "source": [
    "### LIMIT - CONSULTA COM ESPECIFICAÇÃO DO NÚMERO DE LINHAS QUE DEVE RETORNAR"
   ],
   "metadata": {}
  },
  {
   "cell_type": "code",
   "execution_count": 174,
   "source": [
    "#lista os n primeiros registros passados como parâmetro de limit\r\n",
    "#shell: db.funcionarios.find().limit(2)\r\n",
    "for func in db.funcionarios.find().limit(2):\r\n",
    "    print(func)"
   ],
   "outputs": [
    {
     "output_type": "stream",
     "name": "stdout",
     "text": [
      "{'_id': ObjectId('61114876c6f523f932ed62ef'), 'nome': 'James E. Borg', 'cpf': '888665555', 'endereco': '450 Stone, Houston, TX', 'sexo': 'M', 'salario': 55000, 'dnumero': 1}\n",
      "{'_id': ObjectId('61114876c6f523f932ed62f0'), 'nome': 'Jennifer S. Wallace', 'cpf': '987654321', 'endereco': '291 Berry, Bellaire, TX', 'sexo': 'F', 'salario': 43000, 'dnumero': 4}\n"
     ]
    }
   ],
   "metadata": {}
  },
  {
   "cell_type": "markdown",
   "source": [
    "### SORT - CONSULTA COM ORDENAÇÃO"
   ],
   "metadata": {}
  },
  {
   "cell_type": "code",
   "execution_count": 175,
   "source": [
    "# Recupera o nome e o salario dos funcionários em orderm crescente de salário e decrescente de nome\r\n",
    "# shell: db.funcionarios.find().sort({\"salario\":1, \"nome\":-1})\r\n",
    "for func in db.funcionarios.find({},{\"nome\":1, \"salario\":1, \"_id\":0}).sort([(\"salario\",1),(\"nome\",-1)]):\r\n",
    "    print(func)"
   ],
   "outputs": [
    {
     "output_type": "stream",
     "name": "stdout",
     "text": [
      "{'nome': 'Franklin T. Wong', 'salario': 40000}\n",
      "{'nome': 'Jennifer S. Wallace', 'salario': 43000}\n",
      "{'nome': 'James E. Borg', 'salario': 55000}\n"
     ]
    }
   ],
   "metadata": {}
  },
  {
   "cell_type": "markdown",
   "source": [
    "### SUBDOCUMENTOS - CONSULTAS EM SUBDOCUMENTOS"
   ],
   "metadata": {}
  },
  {
   "cell_type": "markdown",
   "source": [
    "### AGREGAÇÕES"
   ],
   "metadata": {}
  },
  {
   "cell_type": "markdown",
   "source": [
    "LOOKUP - JUNÇÃO"
   ],
   "metadata": {}
  },
  {
   "cell_type": "code",
   "execution_count": 176,
   "source": [
    "db.departamentos.drop()\r\n",
    "result = db.departamentos.insert_many([{\"_id\":1, \"nome\":\"Sede_administrativa\"}, {\"_id\":4, \"nome\":\"Administracao\" }, {\"_id\":5, \"nome\":\"Computacao\"}])\r\n",
    "print(result.inserted_ids)"
   ],
   "outputs": [
    {
     "output_type": "stream",
     "name": "stdout",
     "text": [
      "[1, 5]\n"
     ]
    }
   ],
   "metadata": {}
  },
  {
   "cell_type": "code",
   "execution_count": 177,
   "source": [
    "#db.funcionarios.aggregate([{$lookup:{from:\"departamento\",localField:\"departamento\", foreignField:\"_id\", as:\"departamento\"}}])\r\n",
    "for func in db.funcionarios.aggregate([{\"$lookup\":{\"from\":\"departamento\",\"localField\":\"departamento\", \"foreignField\":\"_id\", \"as\":\"departamento\"}}]):\r\n",
    "    print(func)\r\n"
   ],
   "outputs": [
    {
     "output_type": "stream",
     "name": "stdout",
     "text": [
      "{'_id': ObjectId('61114876c6f523f932ed62ef'), 'nome': 'James E. Borg', 'cpf': '888665555', 'endereco': '450 Stone, Houston, TX', 'sexo': 'M', 'salario': 55000, 'dnumero': 1, 'departamento': []}\n",
      "{'_id': ObjectId('61114876c6f523f932ed62f0'), 'nome': 'Jennifer S. Wallace', 'cpf': '987654321', 'endereco': '291 Berry, Bellaire, TX', 'sexo': 'F', 'salario': 43000, 'dnumero': 4, 'departamento': []}\n",
      "{'_id': ObjectId('61114876c6f523f932ed62f1'), 'nome': 'Franklin T. Wong', 'cpf': '333445555', 'endereco': '638 Voss, Housto, TX', 'sexo': 'M', 'salario': 40000, 'dependentes': [{'nome': 'Alice', 'sexo': 'F', 'datanasc': '05/04/1986', 'parentesco': 'FILHA'}, {'nome': 'Theodore', 'sexo': 'M', 'datanasc': '25/10/1983', 'parentesco': 'FILHO'}, {'nome': 'Joy', 'sexo': 'F', 'datanasc': '03/05/1958', 'parentesco': 'CONJUJE'}], 'dnumero': 5, 'departamento': []}\n"
     ]
    }
   ],
   "metadata": {}
  },
  {
   "cell_type": "markdown",
   "source": [
    "## COLLECTION: ATUALIZAÇÃO"
   ],
   "metadata": {}
  },
  {
   "cell_type": "code",
   "execution_count": 178,
   "source": [
    "# Função que imprime o nome e o salario dos funcionários\r\n",
    "def imprime_funcionarios():\r\n",
    "    print(\"------------------------\")\r\n",
    "    for func in db.funcionarios.find({},{\"nome\":1, \"salario\":1,\"dnumero\":1, \"_id\":0}).sort([(\"salario\",1),(\"nome\",-1)]):\r\n",
    "        print(func)\r\n",
    "    print(\"------------------------\")"
   ],
   "outputs": [],
   "metadata": {}
  },
  {
   "cell_type": "code",
   "execution_count": 179,
   "source": [
    "# filtro da atualização\r\n",
    "filter = {\"salario\":{\"$gte\":41000}}\r\n",
    "\r\n",
    "# valores a serem alterados\r\n",
    "newvalue = {\"$set\":{\"departamento\":5}}\r\n",
    "\r\n",
    "imprime_funcionarios()\r\n",
    "\r\n",
    "# atualização de documento\r\n",
    "result = db.funcionarios.update_many(filter, newvalue)\r\n",
    "print(result.modified_count, \"quantidade de documentos atualizados\")\r\n",
    "imprime_funcionarios()"
   ],
   "outputs": [
    {
     "output_type": "stream",
     "name": "stdout",
     "text": [
      "------------------------\n",
      "{'nome': 'Franklin T. Wong', 'salario': 40000, 'dnumero': 5}\n",
      "{'nome': 'Jennifer S. Wallace', 'salario': 43000, 'dnumero': 4}\n",
      "{'nome': 'James E. Borg', 'salario': 55000, 'dnumero': 1}\n",
      "------------------------\n",
      "2 quantidade de documentos atualizados\n",
      "------------------------\n",
      "{'nome': 'Franklin T. Wong', 'salario': 40000, 'dnumero': 5}\n",
      "{'nome': 'Jennifer S. Wallace', 'salario': 43000, 'dnumero': 4}\n",
      "{'nome': 'James E. Borg', 'salario': 55000, 'dnumero': 1}\n",
      "------------------------\n"
     ]
    }
   ],
   "metadata": {}
  },
  {
   "cell_type": "markdown",
   "source": [
    "## COLLECTION: REMOÇÃO"
   ],
   "metadata": {}
  },
  {
   "cell_type": "code",
   "execution_count": 180,
   "source": [
    "# Remove a collection funcionarios\r\n",
    "#shell: db.funcionarios.drop()\r\n",
    "#db.drop_collection(\"funcionarios\")"
   ],
   "outputs": [],
   "metadata": {}
  }
 ],
 "metadata": {
  "orig_nbformat": 4,
  "language_info": {
   "name": "python",
   "version": "3.9.0",
   "mimetype": "text/x-python",
   "codemirror_mode": {
    "name": "ipython",
    "version": 3
   },
   "pygments_lexer": "ipython3",
   "nbconvert_exporter": "python",
   "file_extension": ".py"
  },
  "kernelspec": {
   "name": "python3",
   "display_name": "Python 3.9.0 64-bit"
  },
  "interpreter": {
   "hash": "04dd1ea88422301727d19c42d51b9d5e41ad8601a3578a3c62991af58a4da346"
  }
 },
 "nbformat": 4,
 "nbformat_minor": 2
}
